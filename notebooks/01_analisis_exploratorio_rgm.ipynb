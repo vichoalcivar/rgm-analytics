{
 "cells": [
  {
   "cell_type": "markdown",
   "metadata": {},
   "source": [
    "# 📊 Análisis Exploratorio RGM (Revenue Growth Management)\n",
    "\n",
    "## Objetivo\n",
    "Realizar un análisis exploratorio completo de los datos para entender:\n",
    "- Distribución de ventas, precios y márgenes\n",
    "- Patrones por segmento de cliente\n",
    "- Comportamiento de productos (ABC)\n",
    "- Efectividad de promociones\n",
    "\n",
    "## Datasets a utilizar:\n",
    "- `datos_limpios.csv`: Dataset transaccional principal\n",
    "- `maestro_clientes_rgm.csv`: Segmentación de clientes\n",
    "- `maestro_productos_rgm.csv`: Portfolio de productos\n",
    "- `analisis_promociones_rgm.csv`: Datos de promociones"
   ]
  },
  {
   "cell_type": "markdown",
   "metadata": {},
   "source": [
    "## 1. Importación de Librerías y Configuración"
   ]
  },
  {
   "cell_type": "code",
   "execution_count": 1,
   "metadata": {},
   "outputs": [
    {
     "name": "stdout",
     "output_type": "stream",
     "text": [
      "📊 Librerías cargadas exitosamente\n"
     ]
    }
   ],
   "source": [
    "import pandas as pd\n",
    "import numpy as np\n",
    "import matplotlib.pyplot as plt\n",
    "import seaborn as sns\n",
    "import plotly.express as px\n",
    "import plotly.graph_objects as go\n",
    "from plotly.subplots import make_subplots\n",
    "import warnings\n",
    "\n",
    "warnings.filterwarnings('ignore')\n",
    "plt.style.use('seaborn-v0_8')\n",
    "sns.set_palette(\"husl\")\n",
    "\n",
    "print(\"📊 Librerías cargadas exitosamente\")"
   ]
  },
  {
   "cell_type": "markdown",
   "metadata": {},
   "source": [
    "## 2. Carga de Datasets"
   ]
  },
  {
   "cell_type": "code",
   "execution_count": 2,
   "metadata": {},
   "outputs": [
    {
     "name": "stdout",
     "output_type": "stream",
     "text": [
      "🔄 Cargando datasets...\n",
      "❌ Error cargando datos_limpios.csv\n",
      "✅ Maestro clientes: 21,269 clientes\n",
      "✅ Maestro productos: 1,600 SKUs\n",
      "✅ Análisis promociones: 2,908 promociones\n",
      "\n",
      "🎯 Todos los datasets cargados correctamente\n"
     ]
    }
   ],
   "source": [
    "# Definir rutas de archivos\n",
    "DATA_PATH = '../data/processed/'\n",
    "\n",
    "# Cargar datasets\n",
    "print(\"🔄 Cargando datasets...\")\n",
    "\n",
    "# Dataset principal (sample por tamaño)\n",
    "try:\n",
    "    df_ventas = pd.read_csv(DATA_PATH + 'datos_limpios.csv')\n",
    "    print(f\"✅ Datos limpios: {df_ventas.shape[0]:,} registros\")\n",
    "except:\n",
    "    print(\"❌ Error cargando datos_limpios.csv\")\n",
    "\n",
    "# Maestro de clientes\n",
    "df_clientes = pd.read_csv(DATA_PATH + 'maestro_clientes_rgm.csv')\n",
    "print(f\"✅ Maestro clientes: {df_clientes.shape[0]:,} clientes\")\n",
    "\n",
    "# Maestro de productos\n",
    "df_productos = pd.read_csv(DATA_PATH + 'maestro_productos_rgm.csv')\n",
    "print(f\"✅ Maestro productos: {df_productos.shape[0]:,} SKUs\")\n",
    "\n",
    "# Análisis de promociones\n",
    "df_promociones = pd.read_csv(DATA_PATH + 'analisis_promociones_rgm.csv')\n",
    "print(f\"✅ Análisis promociones: {df_promociones.shape[0]:,} promociones\")\n",
    "\n",
    "print(\"\\n🎯 Todos los datasets cargados correctamente\")"
   ]
  },
  {
   "cell_type": "markdown",
   "metadata": {},
   "source": [
    "## 3. Exploración Inicial - Maestro de Clientes"
   ]
  },
  {
   "cell_type": "code",
   "execution_count": null,
   "metadata": {},
   "outputs": [],
   "source": [
    "print(\"👥 ANÁLISIS DE CLIENTES\")\n",
    "print(\"=\" * 50)\n",
    "\n",
    "# Información básica\n",
    "print(f\"Total de clientes: {df_clientes.shape[0]:,}\")\n",
    "print(f\"Columnas disponibles: {list(df_clientes.columns)}\")\n",
    "\n",
    "# Estadísticas por segmento\n",
    "print(\"\\n📊 Distribución por Segmento:\")\n",
    "segmento_dist = df_clientes['Segmento'].value_counts().sort_index()\n",
    "for seg, count in segmento_dist.items():\n",
    "    pct = (count/len(df_clientes))*100\n",
    "    print(f\"Segmento {seg}: {count:,} clientes ({pct:.1f}%)\")\n",
    "\n",
    "# Mostrar muestra\n",
    "print(\"\\n📋 Muestra de datos:\")\n",
    "df_clientes.head()"
   ]
  },
  {
   "cell_type": "code",
   "execution_count": null,
   "metadata": {},
   "outputs": [],
   "source": [
    "# Estadísticas descriptivas por segmento\n",
    "print(\"💰 ESTADÍSTICAS DE VENTAS POR SEGMENTO\")\n",
    "print(\"=\" * 50)\n",
    "\n",
    "stats_segmento = df_clientes.groupby('Segmento').agg({\n",
    "    'Venta_Total': ['count', 'sum', 'mean', 'median'],\n",
    "    'Ticket_Promedio': ['mean', 'median'],\n",
    "    'CLV_Estimado': ['mean', 'median'],\n",
    "    'Num_Compras': ['mean', 'median']\n",
    "}).round(2)\n",
    "\n",
    "stats_segmento"
   ]
  },
  {
   "cell_type": "markdown",
   "metadata": {},
   "source": [
    "## 4. Exploración de Productos"
   ]
  },
  {
   "cell_type": "code",
   "execution_count": null,
   "metadata": {},
   "outputs": [],
   "source": [
    "print(\"🛍️ ANÁLISIS DE PRODUCTOS\")\n",
    "print(\"=\" * 50)\n",
    "\n",
    "# Información básica\n",
    "print(f\"Total de SKUs: {df_productos.shape[0]:,}\")\n",
    "print(f\"Columnas disponibles: {list(df_productos.columns)}\")\n",
    "\n",
    "# Distribución ABC\n",
    "print(\"\\n📈 Clasificación ABC:\")\n",
    "abc_dist = df_productos['Clasificacion_ABC'].value_counts()\n",
    "for clase, count in abc_dist.items():\n",
    "    pct = (count/len(df_productos))*100\n",
    "    print(f\"Clase {clase}: {count:,} productos ({pct:.1f}%)\")\n",
    "\n",
    "# Estadísticas de precios y márgenes\n",
    "print(\"\\n💵 Estadísticas de Precios y Márgenes:\")\n",
    "print(f\"Precio promedio general: ${df_productos['Precio_Promedio'].mean():.2f}\")\n",
    "print(f\"Margen promedio general: {df_productos['Margen_Porcentaje'].mean():.1f}%\")\n",
    "print(f\"Venta total del portfolio: ${df_productos['Venta_Total'].sum():,.2f}\")\n",
    "\n",
    "df_productos.head()"
   ]
  },
  {
   "cell_type": "markdown",
   "metadata": {},
   "source": [
    "## 5. Análisis de Promociones"
   ]
  },
  {
   "cell_type": "code",
   "execution_count": null,
   "metadata": {},
   "outputs": [],
   "source": [
    "print(\"🎯 ANÁLISIS DE PROMOCIONES\")\n",
    "print(\"=\" * 50)\n",
    "\n",
    "# Información básica\n",
    "print(f\"Total de promociones: {df_promociones.shape[0]:,}\")\n",
    "print(f\"Columnas disponibles: {list(df_promociones.columns)}\")\n",
    "\n",
    "# Estadísticas generales\n",
    "total_ventas_promo = df_promociones['Venta_Total'].sum()\n",
    "total_descuentos = df_promociones['Descuento_Total'].sum()\n",
    "print(f\"\\n💰 Ventas totales con promociones: ${total_ventas_promo:,.2f}\")\n",
    "print(f\"💸 Descuentos totales otorgados: ${total_descuentos:,.2f}\")\n",
    "\n",
    "# ROI de promociones (filtrar infinitos)\n",
    "roi_finite = df_promociones[df_promociones['ROI_Promocion'] != np.inf]['ROI_Promocion']\n",
    "if len(roi_finite) > 0:\n",
    "    print(f\"📊 ROI promedio (finito): {roi_finite.mean():.2f}\")\n",
    "    print(f\"📊 ROI mediano (finito): {roi_finite.median():.2f}\")\n",
    "\n",
    "df_promociones.head()"
   ]
  },
  {
   "cell_type": "markdown",
   "metadata": {},
   "source": [
    "## 6. Visualizaciones Clave"
   ]
  },
  {
   "cell_type": "code",
   "execution_count": null,
   "metadata": {},
   "outputs": [],
   "source": [
    "# Configurar subplots\n",
    "fig, axes = plt.subplots(2, 2, figsize=(15, 12))\n",
    "fig.suptitle('📊 Dashboard Exploratorio RGM', fontsize=16, fontweight='bold')\n",
    "\n",
    "# 1. Distribución de clientes por segmento\n",
    "segmento_counts = df_clientes['Segmento'].value_counts().sort_index()\n",
    "axes[0,0].pie(segmento_counts.values, labels=segmento_counts.index, autopct='%1.1f%%')\n",
    "axes[0,0].set_title('👥 Distribución de Clientes por Segmento')\n",
    "\n",
    "# 2. Ventas por segmento (boxplot)\n",
    "df_clientes.boxplot(column='Venta_Total', by='Segmento', ax=axes[0,1])\n",
    "axes[0,1].set_title('💰 Distribución de Ventas por Segmento')\n",
    "axes[0,1].set_xlabel('Segmento')\n",
    "axes[0,1].set_ylabel('Venta Total')\n",
    "\n",
    "# 3. Clasificación ABC de productos\n",
    "abc_counts = df_productos['Clasificacion_ABC'].value_counts()\n",
    "axes[1,0].bar(abc_counts.index, abc_counts.values, color=['gold', 'silver', '#CD7F32'])\n",
    "axes[1,0].set_title('🛍️ Clasificación ABC de Productos')\n",
    "axes[1,0].set_xlabel('Clasificación')\n",
    "axes[1,0].set_ylabel('Número de Productos')\n",
    "\n",
    "# 4. Distribución de márgenes\n",
    "axes[1,1].hist(df_productos['Margen_Porcentaje'], bins=30, alpha=0.7, color='green')\n",
    "axes[1,1].set_title('📈 Distribución de Márgenes')\n",
    "axes[1,1].set_xlabel('Margen (%)')\n",
    "axes[1,1].set_ylabel('Frecuencia')\n",
    "\n",
    "plt.tight_layout()\n",
    "plt.show()"
   ]
  },
  {
   "cell_type": "markdown",
   "metadata": {},
   "source": [
    "## 7. Análisis de Correlaciones"
   ]
  },
  {
   "cell_type": "code",
   "execution_count": null,
   "metadata": {},
   "outputs": [],
   "source": [
    "# Matriz de correlación para clientes\n",
    "numeric_cols_clientes = ['Venta_Total', 'Ticket_Promedio', 'Num_Compras', 'CLV_Estimado']\n",
    "corr_clientes = df_clientes[numeric_cols_clientes].corr()\n",
    "\n",
    "plt.figure(figsize=(10, 8))\n",
    "sns.heatmap(corr_clientes, annot=True, cmap='coolwarm', center=0, \n",
    "            square=True, linewidths=0.5)\n",
    "plt.title('🔗 Matriz de Correlación - Variables de Clientes')\n",
    "plt.show()\n",
    "\n",
    "# Matriz de correlación para productos\n",
    "numeric_cols_productos = ['Precio_Promedio', 'Costo_Promedio', 'Margen_Porcentaje', 'Venta_Total']\n",
    "corr_productos = df_productos[numeric_cols_productos].corr()\n",
    "\n",
    "plt.figure(figsize=(10, 8))\n",
    "sns.heatmap(corr_productos, annot=True, cmap='viridis', center=0,\n",
    "            square=True, linewidths=0.5)\n",
    "plt.title('🔗 Matriz de Correlación - Variables de Productos')\n",
    "plt.show()"
   ]
  },
  {
   "cell_type": "markdown",
   "metadata": {},
   "source": [
    "## 8. Insights Clave y Conclusiones"
   ]
  },
  {
   "cell_type": "code",
   "execution_count": null,
   "metadata": {},
   "outputs": [],
   "source": [
    "print(\"🎯 INSIGHTS CLAVE DEL ANÁLISIS EXPLORATORIO\")\n",
    "print(\"=\" * 60)\n",
    "\n",
    "# Insights de clientes\n",
    "seg_a_pct = (df_clientes['Segmento'] == 'A').sum() / len(df_clientes) * 100\n",
    "seg_a_revenue = df_clientes[df_clientes['Segmento'] == 'A']['Venta_Total'].sum()\n",
    "total_revenue = df_clientes['Venta_Total'].sum()\n",
    "seg_a_revenue_pct = (seg_a_revenue / total_revenue) * 100\n",
    "\n",
    "print(f\"👥 CLIENTES:\")\n",
    "print(f\"   • Segmento A representa {seg_a_pct:.1f}% de clientes pero {seg_a_revenue_pct:.1f}% de ingresos\")\n",
    "print(f\"   • CLV promedio Segmento A: ${df_clientes[df_clientes['Segmento'] == 'A']['CLV_Estimado'].mean():,.0f}\")\n",
    "\n",
    "# Insights de productos\n",
    "productos_a = (df_productos['Clasificacion_ABC'] == 'A').sum()\n",
    "productos_a_pct = productos_a / len(df_productos) * 100\n",
    "ventas_a = df_productos[df_productos['Clasificacion_ABC'] == 'A']['Venta_Total'].sum()\n",
    "ventas_a_pct = (ventas_a / df_productos['Venta_Total'].sum()) * 100\n",
    "\n",
    "print(f\"\\n🛍️ PRODUCTOS:\")\n",
    "print(f\"   • Productos clase A: {productos_a} ({productos_a_pct:.1f}%) generan {ventas_a_pct:.1f}% de ventas\")\n",
    "print(f\"   • Margen promedio general: {df_productos['Margen_Porcentaje'].mean():.1f}%\")\n",
    "print(f\"   • Precio promedio: ${df_productos['Precio_Promedio'].mean():.2f}\")\n",
    "\n",
    "# Insights de promociones\n",
    "promo_con_roi = df_promociones[df_promociones['ROI_Promocion'] != np.inf]\n",
    "if len(promo_con_roi) > 0:\n",
    "    print(f\"\\n🎯 PROMOCIONES:\")\n",
    "    print(f\"   • {len(promo_con_roi)} promociones con ROI calculable\")\n",
    "    print(f\"   • ROI promedio: {promo_con_roi['ROI_Promocion'].mean():.2f}\")\n",
    "\n",
    "print(\"\\n\" + \"=\" * 60)\n",
    "print(\"✅ Análisis exploratorio completado\")\n",
    "print(\"📋 Próximos pasos: Análisis de precios y elasticidad\")"
   ]
  },
  {
   "cell_type": "markdown",
   "metadata": {},
   "source": [
    "## 9. Exportar Resultados"
   ]
  },
  {
   "cell_type": "code",
   "execution_count": null,
   "metadata": {},
   "outputs": [],
   "source": [
    "# Crear resumen ejecutivo\n",
    "resumen_ejecutivo = {\n",
    "    'total_clientes': len(df_clientes),\n",
    "    'total_productos': len(df_productos),\n",
    "    'total_promociones': len(df_promociones),\n",
    "    'revenue_total': df_clientes['Venta_Total'].sum(),\n",
    "    'clv_promedio': df_clientes['CLV_Estimado'].mean(),\n",
    "    'margen_promedio': df_productos['Margen_Porcentaje'].mean(),\n",
    "    'precio_promedio': df_productos['Precio_Promedio'].mean()\n",
    "}\n",
    "\n",
    "print(\"💾 Guardando resumen ejecutivo...\")\n",
    "pd.DataFrame([resumen_ejecutivo]).to_csv('../data/processed/resumen_exploratorio_rgm.csv', index=False)\n",
    "print(\"✅ Resumen guardado en: ../data/processed/resumen_exploratorio_rgm.csv\")"
   ]
  }
 ],
 "metadata": {
  "kernelspec": {
   "display_name": "venv",
   "language": "python",
   "name": "python3"
  },
  "language_info": {
   "codemirror_mode": {
    "name": "ipython",
    "version": 3
   },
   "file_extension": ".py",
   "mimetype": "text/x-python",
   "name": "python",
   "nbconvert_exporter": "python",
   "pygments_lexer": "ipython3",
   "version": "3.13.5"
  }
 },
 "nbformat": 4,
 "nbformat_minor": 4
}
